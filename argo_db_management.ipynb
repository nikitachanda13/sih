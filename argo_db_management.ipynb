{
 "cells": [
  {
   "cell_type": "markdown",
   "id": "81fe8a2b-d156-4a41-a422-c4edae30af64",
   "metadata": {},
   "source": [
    "## 🔹 Step 1: Inspect the NetCDF file"
   ]
  },
  {
   "cell_type": "code",
   "execution_count": 1,
   "id": "c40ccbab-c760-4a69-b8f7-8d54d761932a",
   "metadata": {},
   "outputs": [
    {
     "name": "stdout",
     "output_type": "stream",
     "text": [
      "<xarray.Dataset>\n",
      "Dimensions:          (N_POINTS: 55618)\n",
      "Coordinates:\n",
      "    LATITUDE         (N_POINTS) float64 ...\n",
      "    LONGITUDE        (N_POINTS) float64 ...\n",
      "    TIME             (N_POINTS) datetime64[ns] ...\n",
      "  * N_POINTS         (N_POINTS) int64 0 1 2 3 4 ... 55614 55615 55616 55617\n",
      "Data variables: (12/15)\n",
      "    CYCLE_NUMBER     (N_POINTS) int64 ...\n",
      "    DATA_MODE        (N_POINTS) object ...\n",
      "    DIRECTION        (N_POINTS) object ...\n",
      "    PLATFORM_NUMBER  (N_POINTS) int64 ...\n",
      "    POSITION_QC      (N_POINTS) int64 ...\n",
      "    PRES             (N_POINTS) float32 ...\n",
      "    ...               ...\n",
      "    PSAL_ERROR       (N_POINTS) float32 ...\n",
      "    PSAL_QC          (N_POINTS) int64 ...\n",
      "    TEMP             (N_POINTS) float32 ...\n",
      "    TEMP_ERROR       (N_POINTS) float32 ...\n",
      "    TEMP_QC          (N_POINTS) int64 ...\n",
      "    TIME_QC          (N_POINTS) int64 ...\n",
      "Attributes:\n",
      "    DATA_ID:              ARGO\n",
      "    DOI:                  http://doi.org/10.17882/42182\n",
      "    Fetched_from:         erddap.ifremer.fr\n",
      "    Fetched_by:           root\n",
      "    Fetched_date:         2025/09/04\n",
      "    Fetched_constraints:  [x=50.00/70.00; y=-10.00/10.00; z=0.0/2000.0; t=202...\n",
      "    Fetched_uri:          https://erddap.ifremer.fr/erddap/tabledap/ArgoFloat...\n",
      "    Processing_history:   [PRES,TEMP,PSAL] real-time and adjusted/delayed var...\n"
     ]
    }
   ],
   "source": [
    "import xarray as xr\n",
    "\n",
    "# Load dataset\n",
    "file_path = \"indian_ocean_data.nc\"\n",
    "ds = xr.open_dataset(file_path)\n",
    "\n",
    "print(ds)\n"
   ]
  },
  {
   "cell_type": "code",
   "execution_count": 3,
   "id": "b92ba569-a055-4265-9044-16c4876dcdb2",
   "metadata": {},
   "outputs": [
    {
     "name": "stdout",
     "output_type": "stream",
     "text": [
      "Defaulting to user installation because normal site-packages is not writeable\n",
      "Requirement already satisfied: netcdf4 in c:\\users\\user\\appdata\\roaming\\python\\python312\\site-packages (1.7.2)\n",
      "Requirement already satisfied: cftime in c:\\users\\user\\appdata\\roaming\\python\\python312\\site-packages (from netcdf4) (1.6.4.post1)\n",
      "Requirement already satisfied: certifi in c:\\programdata\\anaconda3\\lib\\site-packages (from netcdf4) (2024.6.2)\n",
      "Requirement already satisfied: numpy in c:\\users\\user\\appdata\\roaming\\python\\python312\\site-packages (from netcdf4) (1.26.4)\n"
     ]
    }
   ],
   "source": [
    "!pip install netcdf4"
   ]
  },
  {
   "cell_type": "code",
   "execution_count": 7,
   "id": "e72c20d5-f636-4447-a5fd-1cc83319dff8",
   "metadata": {},
   "outputs": [
    {
     "name": "stdout",
     "output_type": "stream",
     "text": [
      "Variables in dataset: ['CYCLE_NUMBER', 'DATA_MODE', 'DIRECTION', 'PLATFORM_NUMBER', 'POSITION_QC', 'PRES', 'PRES_ERROR', 'PRES_QC', 'PSAL', 'PSAL_ERROR', 'PSAL_QC', 'TEMP', 'TEMP_ERROR', 'TEMP_QC', 'TIME_QC', 'LATITUDE', 'LONGITUDE', 'TIME', 'N_POINTS']\n",
      "Dimensions: Frozen({'N_POINTS': 55618})\n",
      "Attributes: {'DATA_ID': 'ARGO', 'DOI': 'http://doi.org/10.17882/42182', 'Fetched_from': 'erddap.ifremer.fr', 'Fetched_by': 'root', 'Fetched_date': '2025/09/04', 'Fetched_constraints': '[x=50.00/70.00; y=-10.00/10.00; z=0.0/2000.0; t=2020-03-01/2020-03-31]', 'Fetched_uri': 'https://erddap.ifremer.fr/erddap/tabledap/ArgoFloats.nc?config_mission_number,cycle_number,data_mode,direction,latitude,longitude,platform_number,position_qc,pres,pres_adjusted,pres_adjusted_error,pres_adjusted_qc,pres_qc,psal,psal_adjusted,psal_adjusted_error,psal_adjusted_qc,psal_qc,temp,temp_adjusted,temp_adjusted_error,temp_adjusted_qc,temp_qc,time,time_qc,vertical_sampling_scheme&longitude%3E=50&longitude%3C=70&latitude%3E=-10&latitude%3C=10&pres%3E=0&pres%3C=2000&time%3E=1583020800.0&time%3C=1585612800.0&latitude!=NaN&longitude!=NaN&distinct()&orderBy(%22time,pres%22)', 'Processing_history': '[PRES,TEMP,PSAL] real-time and adjusted/delayed variables merged according to their data mode; [POSITION_QC,PRES_QC,PSAL_QC,TEMP_QC,TIME_QC] filtered to retain points with QC in [1,2]'}\n"
     ]
    }
   ],
   "source": [
    "import xarray as xr\n",
    "\n",
    "file_path = \"indian_ocean_data.nc\"\n",
    "ds = xr.open_dataset(file_path, engine=\"netcdf4\")\n",
    "\n",
    "print(\"Variables in dataset:\", list(ds.variables))\n",
    "print(\"Dimensions:\", ds.dims)\n",
    "print(\"Attributes:\", ds.attrs)\n"
   ]
  },
  {
   "cell_type": "code",
   "execution_count": 10,
   "id": "3e48814f-6900-47fc-a0fd-9ff66eed582d",
   "metadata": {},
   "outputs": [
    {
     "name": "stdout",
     "output_type": "stream",
     "text": [
      "✅ Profiles and measurements ingested together successfully!\n"
     ]
    }
   ],
   "source": [
    "import sqlite3\n",
    "import xarray as xr\n",
    "import pandas as pd\n",
    "\n",
    "# Load dataset with netCDF4\n",
    "file_path = \"indian_ocean_data.nc\"\n",
    "ds = xr.open_dataset(file_path, engine=\"netcdf4\")\n",
    "\n",
    "# Extract variables\n",
    "cycles = ds[\"CYCLE_NUMBER\"].values\n",
    "platforms = ds[\"PLATFORM_NUMBER\"].values\n",
    "lats = ds[\"LATITUDE\"].values\n",
    "lons = ds[\"LONGITUDE\"].values\n",
    "times = pd.to_datetime(ds[\"TIME\"].values)  # Already proper datetime\n",
    "pressures = ds[\"PRES\"].values\n",
    "temps = ds[\"TEMP\"].values\n",
    "sals = ds[\"PSAL\"].values\n",
    "\n",
    "# Connect to DB\n",
    "conn = sqlite3.connect(\"argo.db\")\n",
    "cursor = conn.cursor()\n",
    "\n",
    "# Ingest everything in one pass\n",
    "for i in range(len(platforms)):\n",
    "    # Skip if any required values are missing\n",
    "    if pd.isna(lats[i]) or pd.isna(lons[i]) or pd.isna(times[i]):\n",
    "        continue\n",
    "\n",
    "    # Insert or find float\n",
    "    cursor.execute(\"SELECT id FROM floats WHERE platform_number=? LIMIT 1\", (str(platforms[i]),))\n",
    "    row = cursor.fetchone()\n",
    "    if row:\n",
    "        float_id = row[0]\n",
    "    else:\n",
    "        cursor.execute(\"INSERT INTO floats (platform_number) VALUES (?)\", (str(platforms[i]),))\n",
    "        float_id = cursor.lastrowid\n",
    "\n",
    "    # Insert profile (always create a new one per cycle)\n",
    "    cursor.execute(\"\"\"\n",
    "        INSERT INTO profiles (float_id, cycle_number, latitude, longitude, time)\n",
    "        VALUES (?, ?, ?, ?, ?)\n",
    "    \"\"\", (float_id, int(cycles[i]), float(lats[i]), float(lons[i]), str(times[i])))\n",
    "    profile_id = cursor.lastrowid\n",
    "\n",
    "    # Insert measurement\n",
    "    if not (pd.isna(pressures[i]) or pd.isna(temps[i]) or pd.isna(sals[i])):\n",
    "        cursor.execute(\"\"\"\n",
    "            INSERT INTO measurements (profile_id, pressure, temperature, salinity, time)\n",
    "            VALUES (?, ?, ?, ?, ?)\n",
    "        \"\"\", (profile_id, float(pressures[i]), float(temps[i]), float(sals[i]), str(times[i])))\n",
    "\n",
    "# Commit and close\n",
    "conn.commit()\n",
    "conn.close()\n",
    "\n",
    "print(\"✅ Profiles and measurements ingested together successfully!\")\n"
   ]
  },
  {
   "cell_type": "code",
   "execution_count": null,
   "id": "04d8e813-60f4-4ea6-a440-9343e0fee822",
   "metadata": {},
   "outputs": [],
   "source": []
  }
 ],
 "metadata": {
  "kernelspec": {
   "display_name": "Python 3 (ipykernel)",
   "language": "python",
   "name": "python3"
  },
  "language_info": {
   "codemirror_mode": {
    "name": "ipython",
    "version": 3
   },
   "file_extension": ".py",
   "mimetype": "text/x-python",
   "name": "python",
   "nbconvert_exporter": "python",
   "pygments_lexer": "ipython3",
   "version": "3.12.4"
  }
 },
 "nbformat": 4,
 "nbformat_minor": 5
}
